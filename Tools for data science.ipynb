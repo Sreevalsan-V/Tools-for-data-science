{
  "metadata": {
    "kernelspec": {
      "name": "python",
      "display_name": "Python (Pyodide)",
      "language": "python"
    },
    "language_info": {
      "codemirror_mode": {
        "name": "python",
        "version": 3
      },
      "file_extension": ".py",
      "mimetype": "text/x-python",
      "name": "python",
      "nbconvert_exporter": "python",
      "pygments_lexer": "ipython3",
      "version": "3.8"
    }
  },
  "nbformat_minor": 4,
  "nbformat": 4,
  "cells": [
    {
      "cell_type": "markdown",
      "source": "# Data Science Tools and Ecosystem\n",
      "metadata": {}
    },
    {
      "cell_type": "markdown",
      "source": "In this notebook, we provide an overview of popular tools and libraries used in data science, along with examples of simple arithmetic operations.\n",
      "metadata": {}
    },
    {
      "cell_type": "markdown",
      "source": "**Popular Data Science Languages**:\n1. Python\n2. R\n3. SQL\n4. Julia\n5. Scala\n",
      "metadata": {}
    },
    {
      "cell_type": "markdown",
      "source": "**Popular Data Science Libraries**:\n- Pandas\n- NumPy\n- Matplotlib\n- Scikit-learn\n- TensorFlow\n",
      "metadata": {}
    },
    {
      "cell_type": "markdown",
      "source": "| Data Science Tool      | Description                              |\n|------------------------|------------------------------------------|\n| Jupyter Notebooks       | Popular tool for running code interactively |\n| RStudio                 | IDE for R programming language           |\n| Apache Hadoop           | Open-source framework for processing large data |\n| TensorFlow              | Deep learning framework developed by Google |\n",
      "metadata": {}
    },
    {
      "cell_type": "markdown",
      "source": "**Intro to arithmetic expressions**\nIn this section, we will demonstrate basic arithmetic operations such as addition, subtraction, multiplication, and division. These operations are fundamental in programming and data manipulation tasks.\n",
      "metadata": {}
    },
    {
      "cell_type": "code",
      "source": "a,b=3,2\nc=a+b\nd=a*b\nprint(\"Addition:\",c,\"\\nMultiplication\",d)",
      "metadata": {
        "trusted": true
      },
      "outputs": [
        {
          "name": "stdout",
          "text": "Addition: 5 \nMultiplication 6\n",
          "output_type": "stream"
        }
      ],
      "execution_count": 2
    },
    {
      "cell_type": "code",
      "source": "minutes=180\nhours=minutes/60\nprint(hours)",
      "metadata": {
        "trusted": true
      },
      "outputs": [
        {
          "name": "stdout",
          "text": "3.0\n",
          "output_type": "stream"
        }
      ],
      "execution_count": 6
    },
    {
      "cell_type": "markdown",
      "source": "**Objectives**\n   1. Create a title cell\n   2. Create a introduction cell\n   3. List data science languages\n   4. List data science libraries\n   5. Create a table of data science tools\n   6. Introduce arithmetic expressions\n   7. Perform multiplication and addition\n   8. Convert minutes to hours",
      "metadata": {}
    },
    {
      "cell_type": "markdown",
      "source": "### Author ",
      "metadata": {}
    },
    {
      "cell_type": "markdown",
      "source": "Sreevalsan",
      "metadata": {}
    },
    {
      "cell_type": "code",
      "source": "",
      "metadata": {
        "trusted": true
      },
      "outputs": [],
      "execution_count": null
    }
  ]
}